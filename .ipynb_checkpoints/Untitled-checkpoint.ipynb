{
 "cells": [
  {
   "cell_type": "code",
   "execution_count": 2,
   "id": "5d0f0ced",
   "metadata": {},
   "outputs": [
    {
     "name": "stdout",
     "output_type": "stream",
     "text": [
      "            Country  Energy Supply Energy Supply per Capita  % Renewable\n",
      "3    American Samoa            NaN                      ...     0.641026\n",
      "24          Bolivia   3.360000e+08                       32    31.477120\n",
      "164     South Korea   1.100700e+10                      221     2.279353\n"
     ]
    }
   ],
   "source": [
    "import pandas as pd\n",
    "import numpy as np\n",
    "import matplotlib.pyplot as plt\n",
    "\n",
    "energy = pd.read_excel(\"En_In.xls\", skiprows=17)\n",
    "energy.drop(energy.columns[[0, 1]], axis=1, inplace=True)\n",
    "\n",
    "energy.columns = [\"Country\", \"Energy Supply\", \"Energy Supply per Capita\", \"% Renewable\"]\n",
    "\n",
    "pd.set_option(\"future.no_silent_downcasting\", True)\n",
    "energy[\"Energy Supply\"] = energy[\"Energy Supply\"].replace(r\"\\.\", np.nan, regex=True)\n",
    "energy[\"Energy Supply\"] *= 1000000\n",
    "\n",
    "\n",
    "\n",
    "to_rename = {\n",
    "    \"Republic of Korea\": \"South Korea\",\n",
    "    \"United States of America\": \"United States\",\n",
    "    \"United Kingdom of Great Britain and Northern Ireland\": \"United Kingdom\",\n",
    "    \"China, Hong Kong Special Administrative Region\": \"Hong Kong\",\n",
    "}\n",
    "energy[\"Country\"] = energy[\"Country\"].replace(to_rename)\n",
    "energy[\"Country\"] = energy[\"Country\"].str.replace(r\"\\(.*\\)|\\d+\", \"\", regex=True).replace(r\"\\s+$\",'', regex=True)\n",
    "\n",
    "\n",
    "energy.loc[energy[\"Country\"].isin([\"American Samoa\", \"South Korea\", \"Bolivia\"])]\n"
   ]
  },
  {
   "cell_type": "code",
   "execution_count": null,
   "id": "5f31b841",
   "metadata": {},
   "outputs": [],
   "source": []
  },
  {
   "cell_type": "code",
   "execution_count": null,
   "id": "8c3e6ccd",
   "metadata": {},
   "outputs": [],
   "source": []
  }
 ],
 "metadata": {
  "kernelspec": {
   "display_name": "Python 3 (ipykernel)",
   "language": "python",
   "name": "python3"
  },
  "language_info": {
   "codemirror_mode": {
    "name": "ipython",
    "version": 3
   },
   "file_extension": ".py",
   "mimetype": "text/x-python",
   "name": "python",
   "nbconvert_exporter": "python",
   "pygments_lexer": "ipython3",
   "version": "3.11.2"
  }
 },
 "nbformat": 4,
 "nbformat_minor": 5
}
